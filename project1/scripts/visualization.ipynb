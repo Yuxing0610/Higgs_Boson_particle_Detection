{
 "cells": [
  {
   "cell_type": "code",
   "execution_count": 45,
   "metadata": {
    "tags": []
   },
   "outputs": [
    {
     "name": "stdout",
     "output_type": "stream",
     "text": [
      "The autoreload extension is already loaded. To reload it, use:\n",
      "  %reload_ext autoreload\n"
     ]
    }
   ],
   "source": [
    "# Useful starting lines\n",
    "%matplotlib inline\n",
    "import numpy as np\n",
    "import matplotlib.pyplot as plt\n",
    "import seaborn as sns\n",
    "%load_ext autoreload\n",
    "%autoreload 2"
   ]
  },
  {
   "cell_type": "markdown",
   "metadata": {},
   "source": [
    "## Load the training data into feature matrix, class labels, and event ids:"
   ]
  },
  {
   "cell_type": "code",
   "execution_count": 46,
   "metadata": {
    "collapsed": false,
    "jupyter": {
     "outputs_hidden": false
    }
   },
   "outputs": [],
   "source": [
    "from proj1_helpers import *\n",
    "DATA_TRAIN_PATH = '../data/train.csv' # TODO: download train data and supply path here \n",
    "y, tX, ids = load_csv_data(DATA_TRAIN_PATH)"
   ]
  },
  {
   "cell_type": "markdown",
   "metadata": {},
   "source": [
    "## Do your thing crazy machine learning thing here :) ..."
   ]
  },
  {
   "cell_type": "code",
   "execution_count": 47,
   "metadata": {},
   "outputs": [],
   "source": [
    "from implementations import *"
   ]
  },
  {
   "cell_type": "code",
   "execution_count": 48,
   "metadata": {},
   "outputs": [],
   "source": [
    "# pre-processing: normalize each feature, then fill bad data with average (0)\n",
    "\n",
    "num_feature = tX.shape[1]\n",
    "col_avg = np.zeros(num_feature)\n",
    "col_std = np.zeros(num_feature)\n",
    "\n",
    "# calculate the average and stadard deviation of each data coloum\n",
    "for i in range(num_feature):\n",
    "    cur_col = tX[:, i]\n",
    "    if i == num_feature-1:\n",
    "        good_data = np.where(cur_col!=0)\n",
    "    else:\n",
    "        good_data = np.where(cur_col!=-999)\n",
    "    col_avg[i] = np.mean(cur_col[good_data])\n",
    "    col_std[i] = np.std(cur_col[good_data])\n",
    "    \n",
    "col_avg = col_avg[np.newaxis, :]\n",
    "col_std = col_std[np.newaxis, :]\n",
    "\n",
    "# pick bad data\n",
    "bad_data = np.where(tX==-999)\n",
    "bad_col_data = np.where(tX[:, -1]==0)\n",
    "\n",
    "# normalization\n",
    "tX = (tX-col_avg) / col_std\n",
    "\n",
    "# filling bad data with average\n",
    "tX[bad_data] = 0\n",
    "tX[:, -1][bad_col_data] = 0"
   ]
  },
  {
   "cell_type": "code",
   "execution_count": 49,
   "metadata": {},
   "outputs": [],
   "source": [
    "# required implementations\n",
    "\n",
    "max_iters = 50\n",
    "gamma = 0.1 # least square GD & logistic_regression & reg_logistic_regression\n",
    "# gamma = 0.001 # least square SGD\n",
    "# lambda_ = 0.1\n",
    "# initial_w = np.zeros(tX.shape[1])\n",
    "\n",
    "# weights, loss = least_squares_GD(y, tX, initial_w, max_iters, gamma)\n",
    "# weights, loss = least_squares_SGD(y, tX, initial_w, max_iters, gamma)\n",
    "# weights, loss = least_squares(y, tX)\n",
    "# weights, loss = ridge_regression(y, tX, lambda_)\n",
    "# weights, loss = logistic_regression(y, tX, initial_w, max_iters, gamma)\n",
    "# weights, loss = reg_logistic_regression(y, tX, lambda_, initial_w, max_iters, gamma)"
   ]
  },
  {
   "cell_type": "code",
   "execution_count": 50,
   "metadata": {},
   "outputs": [],
   "source": [
    "from my_helper import *"
   ]
  },
  {
   "cell_type": "code",
   "execution_count": 51,
   "metadata": {},
   "outputs": [],
   "source": [
    "# polynomial data augmentation\n",
    "\n",
    "degree = 10\n",
    "\n",
    "initial_w = np.zeros(tX.shape[1]*degree)\n",
    "x_ploy = build_poly(tX, degree)"
   ]
  },
  {
   "cell_type": "code",
   "execution_count": 52,
   "metadata": {},
   "outputs": [
    {
     "name": "stdout",
     "output_type": "stream",
     "text": [
      "Lambda 1e-05, Train accuracy 0.816446, Validation Accuracy 0.8160320000000001\n",
      "Lambda 1.7433288221999873e-05, Train accuracy 0.816446, Validation Accuracy 0.8160360000000001\n",
      "Lambda 3.039195382313195e-05, Train accuracy 0.816448, Validation Accuracy 0.816028\n",
      "Lambda 5.2983169062837125e-05, Train accuracy 0.8164480000000001, Validation Accuracy 0.816028\n",
      "Lambda 9.236708571873866e-05, Train accuracy 0.816451, Validation Accuracy 0.816028\n",
      "Lambda 0.0001610262027560939, Train accuracy 0.81645, Validation Accuracy 0.816028\n",
      "Lambda 0.0002807216203941176, Train accuracy 0.8164510000000001, Validation Accuracy 0.816028\n",
      "Lambda 0.0004893900918477494, Train accuracy 0.8164510000000001, Validation Accuracy 0.816028\n",
      "Lambda 0.0008531678524172815, Train accuracy 0.8164510000000001, Validation Accuracy 0.816028\n",
      "Lambda 0.0014873521072935117, Train accuracy 0.8164530000000001, Validation Accuracy 0.8160320000000001\n",
      "Lambda 0.002592943797404667, Train accuracy 0.8164529999999999, Validation Accuracy 0.8160360000000001\n",
      "Lambda 0.004520353656360245, Train accuracy 0.81645, Validation Accuracy 0.8160320000000001\n",
      "Lambda 0.007880462815669913, Train accuracy 0.8164469999999999, Validation Accuracy 0.8160320000000001\n",
      "Lambda 0.013738237958832637, Train accuracy 0.816452, Validation Accuracy 0.8160399999999999\n",
      "Lambda 0.02395026619987486, Train accuracy 0.816452, Validation Accuracy 0.8160440000000001\n",
      "Lambda 0.04175318936560404, Train accuracy 0.816455, Validation Accuracy 0.816024\n",
      "Lambda 0.07278953843983153, Train accuracy 0.8164849999999999, Validation Accuracy 0.816028\n",
      "Lambda 0.12689610031679235, Train accuracy 0.8165000000000001, Validation Accuracy 0.816024\n",
      "Lambda 0.22122162910704501, Train accuracy 0.816478, Validation Accuracy 0.816076\n",
      "Lambda 0.38566204211634725, Train accuracy 0.816482, Validation Accuracy 0.8160359999999999\n",
      "Lambda 0.6723357536499335, Train accuracy 0.8164769999999999, Validation Accuracy 0.8160640000000001\n",
      "Lambda 1.1721022975334818, Train accuracy 0.8164909999999999, Validation Accuracy 0.8161039999999999\n",
      "Lambda 2.043359717856944, Train accuracy 0.816503, Validation Accuracy 0.8161440000000001\n",
      "Lambda 3.562247890262444, Train accuracy 0.8165169999999999, Validation Accuracy 0.816128\n",
      "Lambda 6.2101694189156165, Train accuracy 0.8164779999999998, Validation Accuracy 0.816128\n",
      "Lambda 10.82636733874054, Train accuracy 0.816435, Validation Accuracy 0.8161200000000001\n",
      "Lambda 18.873918221350994, Train accuracy 0.8164279999999999, Validation Accuracy 0.816152\n",
      "Lambda 32.90344562312671, Train accuracy 0.816425, Validation Accuracy 0.8160640000000001\n",
      "Lambda 57.361525104486816, Train accuracy 0.8164599999999999, Validation Accuracy 0.81602\n",
      "Lambda 100.0, Train accuracy 0.8163879999999999, Validation Accuracy 0.8160319999999999\n"
     ]
    }
   ],
   "source": [
    "# ridge regression\n",
    "\n",
    "K = 5\n",
    "seed = 6\n",
    "\n",
    "lambdas = np.logspace(-5, 2, 30)\n",
    "viz_lambdas = []\n",
    "viz_train_acc = []\n",
    "viz_val_acc = []\n",
    "for lambda_ in lambdas:\n",
    "    \n",
    "    # cross validation\n",
    "    train_acc, val_acc = cross_validation(y, x_ploy, K, seed, ridge_regression, lambda_)\n",
    "\n",
    "    viz_lambdas.append(lambda_)\n",
    "    viz_train_acc.append(np.mean(train_acc))\n",
    "    viz_val_acc.append(np.mean(val_acc))\n",
    "\n",
    "    print(\"Lambda {labd}, Train accuracy {ta}, Validation Accuracy {va}\".format(labd=lambda_, ta=np.mean(train_acc), va=np.mean(val_acc)))"
   ]
  },
  {
   "cell_type": "code",
   "execution_count": 53,
   "metadata": {},
   "outputs": [
    {
     "data": {
      "image/png": "[encoded data removed]",
      "text/plain": [
       "<Figure size 432x288 with 1 Axes>"
      ]
     },
     "metadata": {
      "needs_background": "light"
     },
     "output_type": "display_data"
    }
   ],
   "source": [
    "#Redige regression with different lambda_\n",
    "plt.title('Ridge Regression using normal equation lambda')\n",
    "plt.plot(np.log10(viz_lambdas), viz_train_acc, color='red', label='training accuracy')\n",
    "plt.plot(np.log10(viz_lambdas), viz_val_acc, color='blue', label='valadation accuracy')\n",
    "plt.legend(bbox_to_anchor=(1.02, 0), loc=3, borderaxespad=0)\n",
    "plt.xlabel('lambda on log scale')\n",
    "plt.ylabel('acc')\n",
    "plt.savefig('../fig/Redige Regression lambda.jpg', bbox_inches = 'tight')"
   ]
  },
  {
   "cell_type": "code",
   "execution_count": 54,
   "metadata": {},
   "outputs": [
    {
     "data": {
      "text/plain": [
       "18.873918221350994"
      ]
     },
     "execution_count": 54,
     "metadata": {},
     "output_type": "execute_result"
    }
   ],
   "source": [
    "max_index = viz_val_acc.index(max(viz_val_acc))\n",
    "viz_lambdas[max_index]"
   ]
  },
  {
   "cell_type": "code",
   "execution_count": 55,
   "metadata": {},
   "outputs": [
    {
     "name": "stdout",
     "output_type": "stream",
     "text": [
      "degree 1, Train accuracy 0.7189880000000001, Validation Accuracy 0.71886\n",
      "degree 2, Train accuracy 0.7741079999999999, Validation Accuracy 0.773736\n",
      "degree 3, Train accuracy 0.785348, Validation Accuracy 0.7850360000000001\n",
      "degree 4, Train accuracy 0.792429, Validation Accuracy 0.792016\n",
      "degree 5, Train accuracy 0.796217, Validation Accuracy 0.7957\n",
      "degree 6, Train accuracy 0.798456, Validation Accuracy 0.798204\n",
      "degree 7, Train accuracy 0.8043849999999999, Validation Accuracy 0.8038399999999999\n",
      "degree 8, Train accuracy 0.811136, Validation Accuracy 0.8107559999999999\n",
      "degree 9, Train accuracy 0.8153370000000001, Validation Accuracy 0.814908\n",
      "degree 10, Train accuracy 0.8163879999999999, Validation Accuracy 0.8160319999999999\n",
      "degree 11, Train accuracy 0.817825, Validation Accuracy 0.8172519999999999\n",
      "degree 12, Train accuracy 0.818501, Validation Accuracy 0.817784\n",
      "degree 13, Train accuracy 0.8085929999999999, Validation Accuracy 0.807476\n",
      "degree 14, Train accuracy 0.6596219999999999, Validation Accuracy 0.658468\n",
      "degree 15, Train accuracy 0.720388, Validation Accuracy 0.719796\n",
      "degree 16, Train accuracy 0.7515910000000001, Validation Accuracy 0.750976\n",
      "degree 17, Train accuracy 0.7662519999999999, Validation Accuracy 0.76552\n",
      "degree 18, Train accuracy 0.7723579999999999, Validation Accuracy 0.7720279999999999\n",
      "degree 19, Train accuracy 0.685592, Validation Accuracy 0.684852\n"
     ]
    }
   ],
   "source": [
    "K = 5\n",
    "seed = 6\n",
    "\n",
    "lambdas = 18.87391\n",
    "viz_degree = []\n",
    "viz_train_acc = []\n",
    "viz_val_acc = []\n",
    "\n",
    "for degree in range(1,20):\n",
    "    x_ploy = build_poly(tX, degree)\n",
    "    train_acc, val_acc = cross_validation(y, x_ploy, K, seed, ridge_regression, lambda_)\n",
    "\n",
    "    viz_degree.append(degree)\n",
    "    viz_train_acc.append(np.mean(train_acc))\n",
    "    viz_val_acc.append(np.mean(val_acc))\n",
    "\n",
    "    print(\"degree {degree}, Train accuracy {ta}, Validation Accuracy {va}\".format(degree=degree, ta=np.mean(train_acc), va=np.mean(val_acc)))\n",
    "    "
   ]
  },
  {
   "cell_type": "code",
   "execution_count": 56,
   "metadata": {},
   "outputs": [
    {
     "data": {
      "image/png": "[encoded data removed]",
      "text/plain": [
       "<Figure size 432x288 with 1 Axes>"
      ]
     },
     "metadata": {
      "needs_background": "light"
     },
     "output_type": "display_data"
    }
   ],
   "source": [
    "#Redige regression with different lambda_\n",
    "plt.title('Ridge Regression using normal equation degree')\n",
    "plt.plot(viz_degree, viz_train_acc, color='red', label='training accuracy')\n",
    "plt.plot(viz_degree, viz_val_acc, color='blue', label='valadation accuracy')\n",
    "plt.legend(bbox_to_anchor=(1.02, 0), loc=3, borderaxespad=0)\n",
    "plt.xlabel('degree')\n",
    "plt.ylabel('acc')\n",
    "plt.savefig('../fig/Redige Regression degree.jpg', bbox_inches = 'tight')"
   ]
  },
  {
   "cell_type": "code",
   "execution_count": 57,
   "metadata": {},
   "outputs": [
    {
     "name": "stdout",
     "output_type": "stream",
     "text": [
      "0.818552\n"
     ]
    }
   ],
   "source": [
    "# best para of ridge regression\n",
    "\n",
    "\n",
    "ratio = 0.9\n",
    "degree = 12\n",
    "lambda_ = viz_lambdas[max_index]\n",
    "seed = 6\n",
    "\n",
    "x_poly = build_poly(tX, degree)\n",
    "weights, loss = ridge_regression(y, x_poly, lambda_)\n",
    "\n",
    "pred = predict_labels(weights, x_poly)\n",
    "acc = cal_acc(y, pred)\n",
    "\n",
    "print(acc)"
   ]
  },
  {
   "cell_type": "code",
   "execution_count": 58,
   "metadata": {},
   "outputs": [],
   "source": [
    "from my_implementations import *"
   ]
  },
  {
   "cell_type": "code",
   "execution_count": 59,
   "metadata": {},
   "outputs": [
    {
     "name": "stdout",
     "output_type": "stream",
     "text": [
      "LS GD(0/49): loss=0.5637139415227235\n",
      "LS GD(1/49): loss=0.5030966742348562\n",
      "LS GD(2/49): loss=0.4677372180005141\n",
      "LS GD(3/49): loss=0.44557040517340923\n",
      "LS GD(4/49): loss=0.4314588391437936\n",
      "LS GD(5/49): loss=0.42265408880843425\n",
      "LS GD(6/49): loss=0.4175400244740702\n",
      "LS GD(7/49): loss=0.41474658332865977\n",
      "LS GD(8/49): loss=0.41330464986412974\n",
      "LS GD(9/49): loss=0.4125344840243005\n",
      "LS GD(10/49): loss=0.4121563870222903\n",
      "LS GD(11/49): loss=0.4119734319873034\n"
     ]
    },
    {
     "name": "stderr",
     "output_type": "stream",
     "text": [
      "d:\\Git download\\ml-project-1-ssy_mlproject1\\project1\\scripts\\implementations.py:64: RuntimeWarning: overflow encountered in exp\n",
      "  def logistic_loss(y, tx, w):\n"
     ]
    },
    {
     "name": "stdout",
     "output_type": "stream",
     "text": [
      "LS GD(12/49): loss=0.41188579198219466\n",
      "LS GD(13/49): loss=0.411841904547579\n",
      "LS GD(14/49): loss=0.41181806767351203\n",
      "LS GD(15/49): loss=0.41180360280149014\n",
      "LS GD(16/49): loss=0.4117943429623032\n",
      "LS GD(17/49): loss=0.411788655507804\n",
      "LS GD(18/49): loss=0.41178526809622057\n",
      "LS GD(19/49): loss=0.4117255394270488\n",
      "LS GD(20/49): loss=0.4117181523566\n",
      "LS GD(21/49): loss=0.411712405232709\n",
      "LS GD(22/49): loss=0.41170793330665395\n",
      "LS GD(23/49): loss=0.41170445399334615\n",
      "LS GD(24/49): loss=0.41170174742434884\n",
      "LS GD(25/49): loss=0.4116996423062013\n",
      "LS GD(26/49): loss=0.41169800517635796\n",
      "LS GD(27/49): loss=0.41169673208122765\n",
      "LS GD(28/49): loss=0.4116957420855622\n",
      "LS GD(29/49): loss=0.41169497220167817\n",
      "LS GD(30/49): loss=0.41169437342844367\n",
      "LS GD(31/49): loss=0.4116939076589182\n",
      "LS GD(32/49): loss=0.41169354526755814\n",
      "LS GD(33/49): loss=0.41169326322865674\n",
      "LS GD(34/49): loss=0.4116930436498112\n",
      "LS GD(35/49): loss=0.41169287262949933\n",
      "LS GD(36/49): loss=0.41169273936766804\n",
      "LS GD(37/49): loss=0.4116926354737318\n",
      "LS GD(38/49): loss=0.41169255442850705\n",
      "LS GD(39/49): loss=0.41169249116608464\n",
      "LS GD(40/49): loss=0.41169247567144845\n",
      "LS GD(41/49): loss=0.4116924612372467\n",
      "LS GD(42/49): loss=0.41169244779012254\n",
      "LS GD(43/49): loss=0.4116924352618221\n",
      "LS GD(44/49): loss=0.41169242358883873\n",
      "LS GD(45/49): loss=0.41169241271208146\n",
      "LS GD(46/49): loss=0.4116924025765664\n",
      "LS GD(47/49): loss=0.4116923931311309\n",
      "LS GD(48/49): loss=0.41169238432816624\n",
      "LS GD(49/49): loss=0.41169237612337056\n",
      "Train accuracy 0.8168133333333333, Validation Accuracy 0.81596\n"
     ]
    }
   ],
   "source": [
    "# polynomial data augmentation\n",
    "\n",
    "degree = 4\n",
    "\n",
    "initial_w = np.zeros(tX.shape[1]*degree)\n",
    "x_train, y_train, x_val, y_val = split_data(tX, y, ratio, seed)\n",
    "x_train_poly = build_poly(x_train, degree)\n",
    "x_val_poly = build_poly(x_val, degree)\n",
    "\n",
    "# best para of logistic regression Newton\n",
    "\n",
    "max_iters = 50\n",
    "gamma = 0.4\n",
    "\n",
    "weights, loss, viz_iter, viz_loss_newton = logistic_regression_newton(y_train, x_train_poly, initial_w, max_iters, gamma)\n",
    "\n",
    "y_train_pred = predict_labels(weights, x_train_poly)\n",
    "train_acc = cal_acc(y_train, y_train_pred)\n",
    "y_val_pred = predict_labels(weights, x_val_poly)\n",
    "val_acc = cal_acc(y_val, y_val_pred)\n",
    "\n",
    "print(\"Train accuracy {ta}, Validation Accuracy {va}\".format(ta=train_acc, va=val_acc))"
   ]
  },
  {
   "cell_type": "code",
   "execution_count": 60,
   "metadata": {},
   "outputs": [
    {
     "name": "stdout",
     "output_type": "stream",
     "text": [
      "Logistic Regression GD(0/49): loss=0.6308364529766145\n",
      "Logistic Regression GD(1/49): loss=0.6108241778513857\n",
      "Logistic Regression GD(2/49): loss=0.6012718240009614\n",
      "Logistic Regression GD(3/49): loss=0.5956086507481423\n",
      "Logistic Regression GD(4/49): loss=0.5918393536582911\n",
      "Logistic Regression GD(5/49): loss=0.5891139147961404\n",
      "Logistic Regression GD(6/49): loss=0.5870194898349704\n",
      "Logistic Regression GD(7/49): loss=0.5853351436856999\n",
      "Logistic Regression GD(8/49): loss=0.5839332043319674\n",
      "Logistic Regression GD(9/49): loss=0.5827351528862945\n",
      "Logistic Regression GD(10/49): loss=0.5816901681462707\n",
      "Logistic Regression GD(11/49): loss=0.580763930410249\n",
      "Logistic Regression GD(12/49): loss=0.579932419244932\n",
      "Logistic Regression GD(13/49): loss=0.5791782980184818\n",
      "Logistic Regression GD(14/49): loss=0.5784887127621605\n",
      "Logistic Regression GD(15/49): loss=0.5778539016743691\n",
      "Logistic Regression GD(16/49): loss=0.5772662887221848\n",
      "Logistic Regression GD(17/49): loss=0.5767198767824333\n",
      "Logistic Regression GD(18/49): loss=0.5762098318740266\n",
      "Logistic Regression GD(19/49): loss=0.5757321925407821\n",
      "Logistic Regression GD(20/49): loss=0.5752836630823915\n",
      "Logistic Regression GD(21/49): loss=0.5748614640932811\n",
      "Logistic Regression GD(22/49): loss=0.5744632228727263\n",
      "Logistic Regression GD(23/49): loss=0.5740868920202774\n",
      "Logistic Regression GD(24/49): loss=0.5737306882291785\n",
      "Logistic Regression GD(25/49): loss=0.5733930456928611\n",
      "Logistic Regression GD(26/49): loss=0.5730725800992844\n",
      "Logistic Regression GD(27/49): loss=0.572768060195612\n",
      "Logistic Regression GD(28/49): loss=0.5724783845808835\n",
      "Logistic Regression GD(29/49): loss=0.5722025619364777\n",
      "Logistic Regression GD(30/49): loss=0.5719396935380164\n",
      "Logistic Regression GD(31/49): loss=0.5716889577063746\n",
      "Logistic Regression GD(32/49): loss=0.5714495966681843\n",
      "Logistic Regression GD(33/49): loss=0.5712209066441881\n",
      "Logistic Regression GD(34/49): loss=0.5710022315308215\n",
      "Logistic Regression GD(35/49): loss=0.5707929595740089\n",
      "Logistic Regression GD(36/49): loss=0.5705925217147317\n",
      "Logistic Regression GD(37/49): loss=0.5704003902910715\n",
      "Logistic Regression GD(38/49): loss=0.5702160773218229\n",
      "Logistic Regression GD(39/49): loss=0.5700391321875766\n",
      "Logistic Regression GD(40/49): loss=0.5698691388730064\n",
      "Logistic Regression GD(41/49): loss=0.5697057130297272\n",
      "Logistic Regression GD(42/49): loss=0.5695484990762242\n",
      "Logistic Regression GD(43/49): loss=0.5693971674703084\n",
      "Logistic Regression GD(44/49): loss=0.5692514122191757\n",
      "Logistic Regression GD(45/49): loss=0.5691109486454563\n",
      "Logistic Regression GD(46/49): loss=0.5689755114013688\n",
      "Logistic Regression GD(47/49): loss=0.5688448527106157\n",
      "Logistic Regression GD(48/49): loss=0.5687187408132767\n",
      "Logistic Regression GD(49/49): loss=0.5685969585887616\n",
      "Train accuracy 0.7220266666666667, Validation Accuracy 0.72236\n"
     ]
    }
   ],
   "source": [
    "# best para of logistic regression \n",
    "degree = 1\n",
    "gamma = 1\n",
    "initial_w = np.zeros(tX.shape[1]*degree)\n",
    "x_train, y_train, x_val, y_val = split_data(tX, y, ratio, seed)\n",
    "x_train_poly = build_poly(x_train, degree)\n",
    "x_val_poly = build_poly(x_val, degree)\n",
    "weights, loss, viz_iter, viz_loss_normal = logistic_regression(y_train, x_train_poly, initial_w, max_iters, gamma)\n",
    "\n",
    "y_train_pred = predict_labels(weights, x_train_poly)\n",
    "train_acc = cal_acc(y_train, y_train_pred)\n",
    "y_val_pred = predict_labels(weights, x_val_poly)\n",
    "val_acc = cal_acc(y_val, y_val_pred)\n",
    "\n",
    "print(\"Train accuracy {ta}, Validation Accuracy {va}\".format(ta=train_acc, va=val_acc))"
   ]
  },
  {
   "cell_type": "code",
   "execution_count": 61,
   "metadata": {},
   "outputs": [
    {
     "data": {
      "image/png": "[encoded data removed]",
      "text/plain": [
       "<Figure size 432x288 with 1 Axes>"
      ]
     },
     "metadata": {
      "needs_background": "light"
     },
     "output_type": "display_data"
    }
   ],
   "source": [
    "#logistic regression with GD and newton\n",
    "plt.title('logistic regression with GD and newton')\n",
    "plt.plot(viz_iter, viz_loss_newton, color='red', label='newton method')\n",
    "plt.plot(viz_iter, viz_loss_normal, color='blue', label='GD method')\n",
    "plt.legend(bbox_to_anchor=(1.02, 0), loc=3, borderaxespad=0)\n",
    "plt.xlabel('iterations')\n",
    "plt.ylabel('loss')\n",
    "plt.savefig('../fig/logistic regression with GD and newton', bbox_inches = 'tight')"
   ]
  },
  {
   "cell_type": "code",
   "execution_count": 69,
   "metadata": {},
   "outputs": [
    {
     "name": "stdout",
     "output_type": "stream",
     "text": [
      "Train accuracy 0.72664, Validation Accuracy 0.72644\n",
      "Train accuracy 0.8020133333333334, Validation Accuracy 0.80256\n",
      "Train accuracy 0.8101422222222222, Validation Accuracy 0.8098\n"
     ]
    },
    {
     "name": "stderr",
     "output_type": "stream",
     "text": [
      "d:\\Git download\\ml-project-1-ssy_mlproject1\\project1\\scripts\\implementations.py:64: RuntimeWarning: overflow encountered in exp\n",
      "  return 1 / (1+np.exp(-t))\n"
     ]
    },
    {
     "name": "stdout",
     "output_type": "stream",
     "text": [
      "Train accuracy 0.8168133333333333, Validation Accuracy 0.81596\n",
      "Train accuracy 0.5657866666666667, Validation Accuracy 0.57092\n",
      "Train accuracy 0.6682533333333334, Validation Accuracy 0.673\n",
      "Train accuracy 0.5238177777777778, Validation Accuracy 0.52936\n",
      "Train accuracy 0.6032488888888888, Validation Accuracy 0.6032\n",
      "Train accuracy 0.5350133333333333, Validation Accuracy 0.54136\n",
      "Train accuracy 0.6525777777777778, Validation Accuracy 0.65576\n",
      "Train accuracy 0.5257822222222223, Validation Accuracy 0.52736\n",
      "Train accuracy 0.6646888888888889, Validation Accuracy 0.671\n",
      "Train accuracy 0.5564711111111111, Validation Accuracy 0.56336\n",
      "Train accuracy 0.5573022222222223, Validation Accuracy 0.5624\n",
      "Train accuracy 0.4286977777777778, Validation Accuracy 0.4274\n",
      "Train accuracy 0.6334, Validation Accuracy 0.63484\n",
      "Train accuracy 0.5425155555555555, Validation Accuracy 0.5416\n",
      "Train accuracy 0.3434622222222222, Validation Accuracy 0.33828\n",
      "Train accuracy 0.54212, Validation Accuracy 0.54144\n",
      "Train accuracy 0.34348, Validation Accuracy 0.33816\n"
     ]
    },
    {
     "data": {
      "image/png": "[encoded data removed]",
      "text/plain": [
       "<Figure size 432x288 with 1 Axes>"
      ]
     },
     "metadata": {
      "needs_background": "light"
     },
     "output_type": "display_data"
    }
   ],
   "source": [
    "# best para of logistic regression Newton\n",
    "\n",
    "max_iters = 50\n",
    "gamma = 0.4\n",
    "\n",
    "viz_degrees = []\n",
    "viz_train_acc = []\n",
    "viz_val_acc = []\n",
    "\n",
    "for degree in range(1, 21):\n",
    "    x_train, y_train, x_val, y_val = split_data(tX, y, ratio, seed)\n",
    "    x_train_poly = build_poly(x_train, degree)\n",
    "    x_val_poly = build_poly(x_val, degree)  \n",
    "    initial_w = np.zeros(tX.shape[1]*degree)\n",
    "    weights, loss, viz_iter, viz_loss_newton = logistic_regression_newton(y_train, x_train_poly, initial_w, max_iters, gamma)\n",
    "\n",
    "    y_train_pred = predict_labels(weights, x_train_poly)\n",
    "    train_acc = cal_acc(y_train, y_train_pred)\n",
    "    y_val_pred = predict_labels(weights, x_val_poly)\n",
    "    val_acc = cal_acc(y_val, y_val_pred)\n",
    "\n",
    "    print(\"Train accuracy {ta}, Validation Accuracy {va}\".format(ta=train_acc, va=val_acc))\n",
    "    viz_degrees.append(degree)\n",
    "    viz_train_acc.append(train_acc)\n",
    "    viz_val_acc.append(val_acc)\n",
    "\n",
    "#logistic regression with Newton degree\n",
    "plt.title('logistic regression with Newton degree')\n",
    "plt.plot(viz_degrees, viz_train_acc, color='red', label='train_acc')\n",
    "plt.plot(viz_degrees, viz_val_acc, color='blue', label='val_acc')\n",
    "plt.legend(bbox_to_anchor=(1.02, 0), loc=3, borderaxespad=0)\n",
    "plt.xlabel('degree')\n",
    "plt.ylabel('acc')\n",
    "plt.savefig('../fig/logistic regression with Newton degree', bbox_inches = 'tight')\n"
   ]
  },
  {
   "cell_type": "markdown",
   "metadata": {},
   "source": [
    "## Generate predictions and save ouput in csv format for submission:"
   ]
  },
  {
   "cell_type": "code",
   "execution_count": 62,
   "metadata": {
    "collapsed": false,
    "jupyter": {
     "outputs_hidden": false
    }
   },
   "outputs": [],
   "source": [
    "DATA_TEST_PATH = '../data/test.csv' # TODO: download train data and supply path here \n",
    "_, tX_test, ids_test = load_csv_data(DATA_TEST_PATH)\n",
    "\n",
    "# pre-process\n",
    "bad_data = np.where(tX_test==-999)\n",
    "bad_col_data = np.where(tX_test[:, -1]==0)\n",
    "\n",
    "tX_test = (tX_test-col_avg) / col_std\n",
    "tX_test[bad_data] = 0\n",
    "tX_test[:, -1][bad_col_data] = 0"
   ]
  },
  {
   "cell_type": "code",
   "execution_count": 63,
   "metadata": {
    "collapsed": false,
    "jupyter": {
     "outputs_hidden": false
    }
   },
   "outputs": [],
   "source": [
    "OUTPUT_PATH = 'predictions.csv' # TODO: fill in desired name of output file for submission\n",
    "\n",
    "# polynomial data augmentation\n",
    "x_test_poly = build_poly(tX_test, degree)\n",
    "y_pred = predict_labels(weights, x_test_poly)\n",
    "create_csv_submission(ids_test, y_pred, OUTPUT_PATH)"
   ]
  },
  {
   "cell_type": "code",
   "execution_count": null,
   "metadata": {
    "collapsed": true,
    "jupyter": {
     "outputs_hidden": true
    }
   },
   "outputs": [],
   "source": []
  }
 ],
 "metadata": {
  "anaconda-cloud": {},
  "interpreter": {
   "hash": "4f70402bd64a83f9e6e93d3db4ad4ffb184214f121a586f2f8f605e1d305850e"
  },
  "kernelspec": {
   "display_name": "Python 3.8.11 64-bit ('ada': conda)",
   "name": "python3"
  },
  "language_info": {
   "codemirror_mode": {
    "name": "ipython",
    "version": 3
   },
   "file_extension": ".py",
   "mimetype": "text/x-python",
   "name": "python",
   "nbconvert_exporter": "python",
   "pygments_lexer": "ipython3",
   "version": "3.8.11"
  }
 },
 "nbformat": 4,
 "nbformat_minor": 4
}
