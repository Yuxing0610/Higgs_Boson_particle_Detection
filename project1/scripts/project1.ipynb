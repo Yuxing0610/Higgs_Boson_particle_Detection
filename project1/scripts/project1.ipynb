{
 "cells": [
  {
   "cell_type": "code",
   "execution_count": 1,
   "metadata": {},
   "outputs": [],
   "source": [
    "# Useful starting lines\n",
    "%matplotlib inline\n",
    "import numpy as np\n",
    "import matplotlib.pyplot as plt\n",
    "%load_ext autoreload\n",
    "%autoreload 2"
   ]
  },
  {
   "cell_type": "markdown",
   "metadata": {},
   "source": [
    "## Load the training data into feature matrix, class labels, and event ids:"
   ]
  },
  {
   "cell_type": "code",
   "execution_count": 2,
   "metadata": {},
   "outputs": [],
   "source": [
    "from proj1_helpers import *\n",
    "DATA_TRAIN_PATH = '../data/train.csv' \n",
    "y, tX, ids = load_csv_data(DATA_TRAIN_PATH)"
   ]
  },
  {
   "cell_type": "markdown",
   "metadata": {},
   "source": [
    "## Do your thing crazy machine learning thing here :) ..."
   ]
  },
  {
   "cell_type": "code",
   "execution_count": 3,
   "metadata": {},
   "outputs": [],
   "source": [
    "from my_helper import *\n",
    "from ML_lab_implement import *"
   ]
  },
  {
   "cell_type": "code",
   "execution_count": 5,
   "metadata": {},
   "outputs": [],
   "source": [
    "std = np.std(tX, axis=0)\n",
    "tX = tX / std\n",
    "\n",
    "# required implementations\n",
    "max_iters = 50\n",
    "# least square\n",
    "# gamma = 0.0000001\n",
    "# logistic\n",
    "gamma = 0.000001 \n",
    "batch_size = 32\n",
    "lambda_ = 0.1\n",
    "# initial_w = np.random.rand(tX.shape[1]) * 2 - 1\n",
    "initial_w = np.zeros(tX.shape[1])\n",
    "# weights, loss = least_squares_GD(y, tX, initial_w, max_iters, gamma)\n",
    "# weights, loss = least_squares_SGD(y, tX, initial_w, batch_size, max_iters, gamma)\n",
    "# weights, loss = least_squares(y, tX)\n",
    "# weights, loss = ridge_regression(y, tX, lambda_)\n",
    "# weights, loss = logistic_regression_GD(y, tX, initial_w, max_iters, gamma)\n",
    "# weights, loss = reg_logistic_regression_SGD(y, tX, lambda_, initial_w, batch_size, max_iters, gamma)"
   ]
  },
  {
   "cell_type": "code",
   "execution_count": 11,
   "metadata": {},
   "outputs": [
    {
     "data": {
      "text/plain": [
       "array([ 3.48383545e-02, -2.58363349e-01, -2.42364941e-01, -4.33964280e-02,\n",
       "        1.13079342e-01,  3.94840833e-01, -1.10763277e-01,  2.45075194e-01,\n",
       "        4.38642647e-03,  3.11424424e-02, -1.89968149e-01,  1.12977594e-01,\n",
       "        9.73872335e-02,  1.73453941e-01, -8.91038812e-05, -8.39933650e-04,\n",
       "        2.82106537e-01, -1.09432656e-03,  2.34801802e-03,  1.22388068e-01,\n",
       "        1.00541880e-03, -7.20679795e-02, -3.19190244e-01, -2.77199398e-01,\n",
       "        2.39466794e-01,  2.31879617e-01, -2.75879543e-01,  4.79854460e-02,\n",
       "        2.98820086e-02, -6.63881069e-02])"
      ]
     },
     "execution_count": 11,
     "metadata": {},
     "output_type": "execute_result"
    }
   ],
   "source": [
    "weights"
   ]
  },
  {
   "cell_type": "code",
   "execution_count": 10,
   "metadata": {},
   "outputs": [
    {
     "name": "stdout",
     "output_type": "stream",
     "text": [
      "Lambda 1e-05, Train accuracy 0.7445111111111111, Validation Accuracy 0.74312\n",
      "Lambda 1.7433288221999873e-05, Train accuracy 0.7445111111111111, Validation Accuracy 0.74316\n",
      "Lambda 3.039195382313195e-05, Train accuracy 0.7445066666666666, Validation Accuracy 0.74312\n",
      "Lambda 5.2983169062837125e-05, Train accuracy 0.7445111111111111, Validation Accuracy 0.74312\n",
      "Lambda 9.236708571873866e-05, Train accuracy 0.7444933333333333, Validation Accuracy 0.74312\n",
      "Lambda 0.0001610262027560939, Train accuracy 0.7444844444444444, Validation Accuracy 0.74304\n",
      "Lambda 0.0002807216203941176, Train accuracy 0.7444755555555556, Validation Accuracy 0.74304\n",
      "Lambda 0.0004893900918477494, Train accuracy 0.7444666666666667, Validation Accuracy 0.743\n",
      "Lambda 0.0008531678524172815, Train accuracy 0.7444755555555556, Validation Accuracy 0.743\n",
      "Lambda 0.0014873521072935117, Train accuracy 0.7444577777777778, Validation Accuracy 0.743\n",
      "Lambda 0.002592943797404667, Train accuracy 0.7444755555555556, Validation Accuracy 0.74312\n",
      "Lambda 0.004520353656360245, Train accuracy 0.7444711111111111, Validation Accuracy 0.74312\n",
      "Lambda 0.007880462815669913, Train accuracy 0.7444311111111112, Validation Accuracy 0.74304\n",
      "Lambda 0.013738237958832637, Train accuracy 0.7443644444444445, Validation Accuracy 0.743\n",
      "Lambda 0.02395026619987486, Train accuracy 0.7443244444444445, Validation Accuracy 0.74304\n",
      "Lambda 0.04175318936560404, Train accuracy 0.7442977777777777, Validation Accuracy 0.74296\n",
      "Lambda 0.07278953843983153, Train accuracy 0.7443111111111111, Validation Accuracy 0.74268\n",
      "Lambda 0.12689610031679235, Train accuracy 0.7443422222222222, Validation Accuracy 0.74256\n",
      "Lambda 0.22122162910704501, Train accuracy 0.7442844444444444, Validation Accuracy 0.74284\n",
      "Lambda 0.38566204211634725, Train accuracy 0.7443111111111111, Validation Accuracy 0.74268\n",
      "Lambda 0.6723357536499335, Train accuracy 0.7442177777777778, Validation Accuracy 0.7424\n",
      "Lambda 1.1721022975334818, Train accuracy 0.7441066666666667, Validation Accuracy 0.74204\n",
      "Lambda 2.043359717856944, Train accuracy 0.7440266666666666, Validation Accuracy 0.74204\n",
      "Lambda 3.562247890262444, Train accuracy 0.7438933333333333, Validation Accuracy 0.74184\n",
      "Lambda 6.2101694189156165, Train accuracy 0.7438355555555556, Validation Accuracy 0.742\n",
      "Lambda 10.82636733874054, Train accuracy 0.7436755555555555, Validation Accuracy 0.74228\n",
      "Lambda 18.873918221350994, Train accuracy 0.74364, Validation Accuracy 0.74224\n",
      "Lambda 32.90344562312671, Train accuracy 0.7434488888888889, Validation Accuracy 0.74232\n",
      "Lambda 57.361525104486816, Train accuracy 0.7432444444444445, Validation Accuracy 0.74188\n",
      "Lambda 100.0, Train accuracy 0.7430888888888889, Validation Accuracy 0.74176\n"
     ]
    }
   ],
   "source": [
    "# polynomial fit\n",
    "\n",
    "ratio = 0.9\n",
    "degree = 7\n",
    "seed = 6\n",
    "\n",
    "x_train, y_train, x_val, y_val = split_data(tX, y, ratio, seed)\n",
    "x_train_poly = build_poly(x_train, degree)\n",
    "x_val_poly = build_poly(x_val, degree)\n",
    "\n",
    "lambdas = np.logspace(-5, 2, 30)\n",
    "\n",
    "for lambda_ in lambdas:\n",
    "    weights, loss = ridge_regression(y_train, x_train, lambda_)\n",
    "\n",
    "    y_train_pred = predict_labels(weights, x_train)\n",
    "    train_acc = cal_acc(y_train, y_train_pred)\n",
    "    y_val_pred = predict_labels(weights, x_val)\n",
    "    val_acc = cal_acc(y_val, y_val_pred)\n",
    "\n",
    "    print(\"Lambda {labd}, Train accuracy {ta}, Validation Accuracy {va}\".format(labd=lambda_, ta=train_acc, va=val_acc))"
   ]
  },
  {
   "cell_type": "code",
   "execution_count": null,
   "metadata": {},
   "outputs": [],
   "source": [
    "# best para\n",
    "\n",
    "ratio = 0.9\n",
    "degree = 8\n",
    "lambda_ = 5.2983169062837125e-05\n",
    "seed = 6\n",
    "\n",
    "x_poly = build_poly(tX, degree)\n",
    "weights, loss = ridge_regression(y, x_poly, lambda_)\n",
    "\n",
    "pred = predict_labels(weights, x_poly)\n",
    "acc = cal_acc(y, pred)\n",
    "\n",
    "print(acc)"
   ]
  },
  {
   "cell_type": "markdown",
   "metadata": {},
   "source": [
    "## Generate predictions and save ouput in csv format for submission:"
   ]
  },
  {
   "cell_type": "code",
   "execution_count": 10,
   "metadata": {},
   "outputs": [],
   "source": [
    "DATA_TEST_PATH = '' # TODO: download train data and supply path here \n",
    "_, tX_test, ids_test = load_csv_data(DATA_TEST_PATH)"
   ]
  },
  {
   "cell_type": "code",
   "execution_count": 31,
   "metadata": {},
   "outputs": [],
   "source": [
    "OUTPUT_PATH = '' # TODO: fill in desired name of output file for submission\n",
    "y_pred = predict_labels(weights, tX_test)\n",
    "create_csv_submission(ids_test, y_pred, OUTPUT_PATH)"
   ]
  },
  {
   "cell_type": "code",
   "execution_count": null,
   "metadata": {
    "collapsed": true
   },
   "outputs": [],
   "source": []
  }
 ],
 "metadata": {
  "anaconda-cloud": {},
  "kernelspec": {
   "display_name": "Python [conda env:root]",
   "language": "python",
   "name": "conda-root-py"
  },
  "language_info": {
   "codemirror_mode": {
    "name": "ipython",
    "version": 3
   },
   "file_extension": ".py",
   "mimetype": "text/x-python",
   "name": "python",
   "nbconvert_exporter": "python",
   "pygments_lexer": "ipython3",
   "version": "3.7.1"
  }
 },
 "nbformat": 4,
 "nbformat_minor": 1
}
