{
 "cells": [
  {
   "cell_type": "code",
   "execution_count": 1,
   "metadata": {
    "tags": []
   },
   "outputs": [],
   "source": [
    "# Useful starting lines\n",
    "%matplotlib inline\n",
    "import numpy as np\n",
    "import matplotlib.pyplot as plt\n",
    "%load_ext autoreload\n",
    "%autoreload 2"
   ]
  },
  {
   "cell_type": "markdown",
   "metadata": {},
   "source": [
    "## Load the training data into feature matrix, class labels, and event ids:"
   ]
  },
  {
   "cell_type": "code",
   "execution_count": 2,
   "metadata": {
    "collapsed": false,
    "jupyter": {
     "outputs_hidden": false
    }
   },
   "outputs": [],
   "source": [
    "from proj1_helpers import *\n",
    "DATA_TRAIN_PATH = '../data/train.csv' # TODO: download train data and supply path here \n",
    "y, tX, ids = load_csv_data(DATA_TRAIN_PATH)"
   ]
  },
  {
   "cell_type": "markdown",
   "metadata": {},
   "source": [
    "## Do your thing crazy machine learning thing here :) ..."
   ]
  },
  {
   "cell_type": "code",
   "execution_count": 3,
   "metadata": {},
   "outputs": [],
   "source": [
    "from my_helper import *\n",
    "from implementations import *"
   ]
  },
  {
   "cell_type": "code",
   "execution_count": 4,
   "metadata": {},
   "outputs": [],
   "source": [
    "# required implementations\n",
    "\n",
    "max_iters = 50\n",
    "# least square\n",
    "# gamma = 0.0000001\n",
    "# logistic\n",
    "gamma = 0.000001 \n",
    "batch_size = 32\n",
    "lambda_ = 0.1\n",
    "# initial_w = np.random.rand(tX.shape[1]) * 2 - 1\n",
    "initial_w = np.zeros(tX.shape[1])\n",
    "# weights, loss = least_squares_GD(y, tX, initial_w, max_iters, gamma)\n",
    "# weights, loss = least_squares_SGD(y, tX, initial_w, batch_size, max_iters, gamma)\n",
    "# weights, loss = least_squares(y, tX)\n",
    "# weights, loss = ridge_regression(y, tX, lambda_)\n",
    "# weights, loss = logistic_regression_GD(y, tX, initial_w, max_iters, gamma)\n",
    "# weights, loss = reg_logistic_regression_SGD(y, tX, lambda_, initial_w, batch_size, max_iters, gamma)"
   ]
  },
  {
   "cell_type": "code",
   "execution_count": 19,
   "metadata": {},
   "outputs": [
    {
     "name": "stdout",
     "output_type": "stream",
     "text": [
      "Lambda 1e-05, Train accuracy 0.7997288888888889, Validation Accuracy 0.80012\n",
      "Lambda 1.7433288221999873e-05, Train accuracy 0.7997377777777778, Validation Accuracy 0.80004\n",
      "Lambda 3.039195382313195e-05, Train accuracy 0.7997333333333333, Validation Accuracy 0.80016\n",
      "Lambda 5.2983169062837125e-05, Train accuracy 0.7997155555555555, Validation Accuracy 0.80012\n",
      "Lambda 9.236708571873866e-05, Train accuracy 0.7997155555555555, Validation Accuracy 0.80012\n",
      "Lambda 0.00016102620275609394, Train accuracy 0.7996666666666666, Validation Accuracy 0.80016\n",
      "Lambda 0.0002807216203941176, Train accuracy 0.7996622222222223, Validation Accuracy 0.80016\n",
      "Lambda 0.0004893900918477494, Train accuracy 0.7996933333333334, Validation Accuracy 0.80016\n",
      "Lambda 0.0008531678524172815, Train accuracy 0.7996711111111111, Validation Accuracy 0.80016\n",
      "Lambda 0.0014873521072935117, Train accuracy 0.7997111111111112, Validation Accuracy 0.80004\n",
      "Lambda 0.002592943797404667, Train accuracy 0.7996577777777778, Validation Accuracy 0.80016\n",
      "Lambda 0.004520353656360245, Train accuracy 0.7996755555555556, Validation Accuracy 0.80016\n",
      "Lambda 0.007880462815669913, Train accuracy 0.7996711111111111, Validation Accuracy 0.8002\n",
      "Lambda 0.013738237958832637, Train accuracy 0.7996622222222223, Validation Accuracy 0.8002\n",
      "Lambda 0.02395026619987486, Train accuracy 0.7996533333333333, Validation Accuracy 0.80016\n",
      "Lambda 0.04175318936560404, Train accuracy 0.7996622222222223, Validation Accuracy 0.80012\n",
      "Lambda 0.07278953843983153, Train accuracy 0.7996666666666666, Validation Accuracy 0.80004\n",
      "Lambda 0.12689610031679235, Train accuracy 0.7996311111111111, Validation Accuracy 0.80008\n",
      "Lambda 0.22122162910704501, Train accuracy 0.79964, Validation Accuracy 0.80012\n",
      "Lambda 0.38566204211634725, Train accuracy 0.7996088888888889, Validation Accuracy 0.80016\n",
      "Lambda 0.6723357536499335, Train accuracy 0.7996311111111111, Validation Accuracy 0.80012\n",
      "Lambda 1.1721022975334818, Train accuracy 0.79972, Validation Accuracy 0.80008\n",
      "Lambda 2.043359717856944, Train accuracy 0.7997288888888889, Validation Accuracy 0.80004\n",
      "Lambda 3.562247890262444, Train accuracy 0.7997466666666667, Validation Accuracy 0.8\n",
      "Lambda 6.2101694189156165, Train accuracy 0.79976, Validation Accuracy 0.79992\n",
      "Lambda 10.82636733874054, Train accuracy 0.7997733333333333, Validation Accuracy 0.79996\n",
      "Lambda 18.873918221350994, Train accuracy 0.7967066666666667, Validation Accuracy 0.7964\n",
      "Lambda 32.90344562312671, Train accuracy 0.7964222222222223, Validation Accuracy 0.79596\n",
      "Lambda 57.361525104486816, Train accuracy 0.7984444444444444, Validation Accuracy 0.79904\n",
      "Lambda 100.0, Train accuracy 0.7990933333333333, Validation Accuracy 0.79936\n"
     ]
    }
   ],
   "source": [
    "# polynomial fit\n",
    "\n",
    "ratio = 0.9\n",
    "degree = 6\n",
    "seed = 6\n",
    "\n",
    "x_train, y_train, x_val, y_val = split_data(tX, y, ratio, seed)\n",
    "x_train_poly = build_poly(x_train, degree)\n",
    "x_val_poly = build_poly(x_val, degree)\n",
    "\n",
    "lambdas = np.logspace(-5, 2, 30)\n",
    "\n",
    "for lambda_ in lambdas:\n",
    "    weights, loss = ridge_regression(y_train, x_train_poly, lambda_)\n",
    "\n",
    "    y_train_pred = predict_labels(weights, x_train_poly)\n",
    "    train_acc = cal_acc(y_train, y_train_pred)\n",
    "    y_val_pred = predict_labels(weights, x_val_poly)\n",
    "    val_acc = cal_acc(y_val, y_val_pred)\n",
    "\n",
    "    print(\"Lambda {labd}, Train accuracy {ta}, Validation Accuracy {va}\".format(labd=lambda_, ta=train_acc, va=val_acc))"
   ]
  },
  {
   "cell_type": "code",
   "execution_count": 21,
   "metadata": {},
   "outputs": [
    {
     "name": "stdout",
     "output_type": "stream",
     "text": [
      "0.799556\n"
     ]
    }
   ],
   "source": [
    "# best para\n",
    "\n",
    "ratio = 0.9\n",
    "degree = 6\n",
    "lambda_ = 0.004520353656360245\n",
    "seed = 6\n",
    "\n",
    "x_poly = build_poly(tX, degree)\n",
    "weights, loss = ridge_regression(y, x_poly, lambda_)\n",
    "\n",
    "pred = predict_labels(weights, x_poly)\n",
    "acc = cal_acc(y, pred)\n",
    "\n",
    "print(acc)"
   ]
  },
  {
   "cell_type": "markdown",
   "metadata": {},
   "source": [
    "## Generate predictions and save ouput in csv format for submission:"
   ]
  },
  {
   "cell_type": "code",
   "execution_count": 22,
   "metadata": {
    "collapsed": false,
    "jupyter": {
     "outputs_hidden": false
    }
   },
   "outputs": [],
   "source": [
    "DATA_TEST_PATH = '../data/test.csv' # TODO: download train data and supply path here \n",
    "_, tX_test, ids_test = load_csv_data(DATA_TEST_PATH)"
   ]
  },
  {
   "cell_type": "code",
   "execution_count": 23,
   "metadata": {
    "collapsed": false,
    "jupyter": {
     "outputs_hidden": false
    }
   },
   "outputs": [],
   "source": [
    "OUTPUT_PATH = 'predictions.csv' # TODO: fill in desired name of output file for submission\n",
    "# y_pred = predict_labels(weights, tX_test)\n",
    "# for polynomial fit\n",
    "x_test_poly = build_poly(tX_test, degree)\n",
    "y_pred = predict_labels(weights, x_test_poly)\n",
    "create_csv_submission(ids_test, y_pred, OUTPUT_PATH)"
   ]
  },
  {
   "cell_type": "code",
   "execution_count": null,
   "metadata": {
    "collapsed": true,
    "jupyter": {
     "outputs_hidden": true
    }
   },
   "outputs": [],
   "source": []
  }
 ],
 "metadata": {
  "anaconda-cloud": {},
  "kernelspec": {
   "display_name": "gc_course_env",
   "language": "python",
   "name": "gc_course_env"
  },
  "language_info": {
   "codemirror_mode": {
    "name": "ipython",
    "version": 3
   },
   "file_extension": ".py",
   "mimetype": "text/x-python",
   "name": "python",
   "nbconvert_exporter": "python",
   "pygments_lexer": "ipython3",
   "version": "3.9.7"
  }
 },
 "nbformat": 4,
 "nbformat_minor": 4
}
