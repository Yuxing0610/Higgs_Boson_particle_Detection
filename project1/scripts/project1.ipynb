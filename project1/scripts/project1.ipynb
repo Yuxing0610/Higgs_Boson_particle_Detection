{
 "cells": [
  {
   "cell_type": "code",
   "execution_count": 1,
   "metadata": {
    "tags": []
   },
   "outputs": [],
   "source": [
    "# Useful starting lines\n",
    "%matplotlib inline\n",
    "import numpy as np\n",
    "import matplotlib.pyplot as plt\n",
    "%load_ext autoreload\n",
    "%autoreload 2"
   ]
  },
  {
   "cell_type": "markdown",
   "metadata": {},
   "source": [
    "## Load the training data into feature matrix, class labels, and event ids:"
   ]
  },
  {
   "cell_type": "code",
   "execution_count": 2,
   "metadata": {
    "collapsed": false,
    "jupyter": {
     "outputs_hidden": false
    }
   },
   "outputs": [],
   "source": [
    "from proj1_helpers import *\n",
    "DATA_TRAIN_PATH = '../data/train.csv' # TODO: download train data and supply path here \n",
    "y, tX, ids = load_csv_data(DATA_TRAIN_PATH)"
   ]
  },
  {
   "cell_type": "markdown",
   "metadata": {},
   "source": [
    "## Do your thing crazy machine learning thing here :) ..."
   ]
  },
  {
   "cell_type": "code",
   "execution_count": 3,
   "metadata": {},
   "outputs": [
    {
     "name": "stdout",
     "output_type": "stream",
     "text": [
      "(250000,) (250000, 30) (250000,)\n"
     ]
    }
   ],
   "source": [
    "print(y.shape, tX.shape, ids.shape)"
   ]
  },
  {
   "cell_type": "code",
   "execution_count": 4,
   "metadata": {},
   "outputs": [
    {
     "name": "stdout",
     "output_type": "stream",
     "text": [
      "LS GD(0/99): loss=0.6368770942468809\n",
      "LS GD(1/99): loss=0.6331223020396461\n",
      "LS GD(2/99): loss=0.6361252867570109\n",
      "LS GD(3/99): loss=0.6286009619300704\n",
      "LS GD(4/99): loss=0.6364519931030792\n",
      "LS GD(5/99): loss=0.6304636526031069\n",
      "LS GD(6/99): loss=0.6221688059558363\n",
      "LS GD(7/99): loss=0.6198192737484138\n",
      "LS GD(8/99): loss=0.6213455391144651\n",
      "LS GD(9/99): loss=0.6165356068488825\n",
      "LS GD(10/99): loss=0.6314137876053305\n",
      "LS GD(11/99): loss=0.6128198437379186\n",
      "LS GD(12/99): loss=0.6267748276877136\n",
      "LS GD(13/99): loss=0.6309778288274651\n",
      "LS GD(14/99): loss=0.6641761874625774\n",
      "LS GD(15/99): loss=0.6131373634932724\n",
      "LS GD(16/99): loss=0.6206802233166234\n",
      "LS GD(17/99): loss=0.6292849047693188\n",
      "LS GD(18/99): loss=0.6461079671490194\n",
      "LS GD(19/99): loss=0.6212038910608095\n",
      "LS GD(20/99): loss=0.6091764629407846\n",
      "LS GD(21/99): loss=0.6242090981010232\n",
      "LS GD(22/99): loss=0.6074370493794209\n",
      "LS GD(23/99): loss=0.6069610715286476\n",
      "LS GD(24/99): loss=0.6135335211014981\n",
      "LS GD(25/99): loss=0.611317620716925\n",
      "LS GD(26/99): loss=0.6067627433166571\n",
      "LS GD(27/99): loss=0.6131579930005376\n",
      "LS GD(28/99): loss=0.6168255884134289\n",
      "LS GD(29/99): loss=0.6227718328600684\n",
      "LS GD(30/99): loss=0.6333059706634638\n",
      "LS GD(31/99): loss=0.6157783942573702\n",
      "LS GD(32/99): loss=0.6079902929086337\n",
      "LS GD(33/99): loss=0.6097132605445603\n",
      "LS GD(34/99): loss=0.6210315452803298\n",
      "LS GD(35/99): loss=0.6055618032465883\n",
      "LS GD(36/99): loss=0.6042529078356548\n",
      "LS GD(37/99): loss=0.6044249867460867\n",
      "LS GD(38/99): loss=0.6032411565035453\n",
      "LS GD(39/99): loss=0.6180980099321808\n",
      "LS GD(40/99): loss=0.6131748000086379\n",
      "LS GD(41/99): loss=0.6031641853696373\n",
      "LS GD(42/99): loss=0.60588111825107\n",
      "LS GD(43/99): loss=0.605567387922883\n",
      "LS GD(44/99): loss=0.6048959119414086\n",
      "LS GD(45/99): loss=0.6102176446220572\n",
      "LS GD(46/99): loss=0.6072566888995522\n",
      "LS GD(47/99): loss=0.6085321162877885\n",
      "LS GD(48/99): loss=0.6068114507083063\n",
      "LS GD(49/99): loss=0.6021895460695686\n",
      "LS GD(50/99): loss=0.6041935281533033\n",
      "LS GD(51/99): loss=0.6053956415883643\n",
      "LS GD(52/99): loss=0.619165957261302\n",
      "LS GD(53/99): loss=0.6075613244680979\n",
      "LS GD(54/99): loss=0.6027914293974831\n",
      "LS GD(55/99): loss=0.6040954045444903\n",
      "LS GD(56/99): loss=0.6021548897594782\n",
      "LS GD(57/99): loss=0.6017859922149993\n",
      "LS GD(58/99): loss=0.6024707005170015\n",
      "LS GD(59/99): loss=0.6017075302228605\n",
      "LS GD(60/99): loss=0.6015961042373741\n",
      "LS GD(61/99): loss=0.6021915326151944\n",
      "LS GD(62/99): loss=0.6018102678378074\n",
      "LS GD(63/99): loss=0.601818202420066\n",
      "LS GD(64/99): loss=0.6030143291007521\n",
      "LS GD(65/99): loss=0.6061207672733369\n",
      "LS GD(66/99): loss=0.604831526634215\n",
      "LS GD(67/99): loss=0.6024203376452951\n",
      "LS GD(68/99): loss=0.6018340899476696\n",
      "LS GD(69/99): loss=0.6018442487507216\n",
      "LS GD(70/99): loss=0.6012621115637793\n",
      "LS GD(71/99): loss=0.6011942752118942\n",
      "LS GD(72/99): loss=0.601475169732254\n",
      "LS GD(73/99): loss=0.6011099561991698\n",
      "LS GD(74/99): loss=0.6015502038674995\n",
      "LS GD(75/99): loss=0.6030798888877487\n",
      "LS GD(76/99): loss=0.6009993887759243\n",
      "LS GD(77/99): loss=0.6016973012790626\n",
      "LS GD(78/99): loss=0.6018359857501018\n",
      "LS GD(79/99): loss=0.6013785418991965\n",
      "LS GD(80/99): loss=0.6015722648428554\n",
      "LS GD(81/99): loss=0.6016353760484965\n",
      "LS GD(82/99): loss=0.6012565647375687\n",
      "LS GD(83/99): loss=0.6010918730113763\n",
      "LS GD(84/99): loss=0.6007167114029007\n",
      "LS GD(85/99): loss=0.600733808896426\n",
      "LS GD(86/99): loss=0.6007574155439039\n",
      "LS GD(87/99): loss=0.6007595330873126\n",
      "LS GD(88/99): loss=0.6010188246093829\n",
      "LS GD(89/99): loss=0.6014630466714818\n",
      "LS GD(90/99): loss=0.6011778855200196\n",
      "LS GD(91/99): loss=0.6011712839639399\n",
      "LS GD(92/99): loss=0.6010344662869936\n",
      "LS GD(93/99): loss=0.6006857147176463\n",
      "LS GD(94/99): loss=0.6007262681491868\n",
      "LS GD(95/99): loss=0.6006097957952604\n",
      "LS GD(96/99): loss=0.6005312069556511\n",
      "LS GD(97/99): loss=0.6005100598270157\n",
      "LS GD(98/99): loss=0.6005268987256873\n",
      "LS GD(99/99): loss=0.600496800426806\n"
     ]
    }
   ],
   "source": [
    "from implementations import *\n",
    "\n",
    "max_iters = 100\n",
    "# least square\n",
    "# gamma = 0.0000001\n",
    "# logistic\n",
    "gamma = 0.000001 \n",
    "batch_size = 32\n",
    "lambda_ = 0.1\n",
    "# initial_w = np.random.rand(tX.shape[1]) * 2 - 1\n",
    "initial_w = np.zeros(tX.shape[1])\n",
    "# weights, loss = least_squares_GD(y, tX, initial_w, max_iters, gamma)\n",
    "# weights, loss = least_squares_SGD(y, tX, initial_w, batch_size, max_iters, gamma)\n",
    "# weights, loss = least_squares(y, tX)\n",
    "# weights, loss = ridge_regression(y, tX, lambda_)\n",
    "# weights, loss = logistic_regression_GD(y, tX, initial_w, max_iters, gamma)\n",
    "weights, loss = reg_logistic_regression_SGD(y, tX, lambda_, initial_w, batch_size, max_iters, gamma)"
   ]
  },
  {
   "cell_type": "code",
   "execution_count": 5,
   "metadata": {},
   "outputs": [
    {
     "name": "stdout",
     "output_type": "stream",
     "text": [
      "0.659012\n"
     ]
    }
   ],
   "source": [
    "y_train_pred = predict_labels(weights, tX)\n",
    "print(np.sum(y_train_pred==y)/y_train_pred.shape[0])"
   ]
  },
  {
   "cell_type": "markdown",
   "metadata": {},
   "source": [
    "## Generate predictions and save ouput in csv format for submission:"
   ]
  },
  {
   "cell_type": "code",
   "execution_count": 6,
   "metadata": {
    "collapsed": false,
    "jupyter": {
     "outputs_hidden": false
    }
   },
   "outputs": [],
   "source": [
    "DATA_TEST_PATH = '../data/test.csv' # TODO: download train data and supply path here \n",
    "_, tX_test, ids_test = load_csv_data(DATA_TEST_PATH)"
   ]
  },
  {
   "cell_type": "code",
   "execution_count": 7,
   "metadata": {
    "collapsed": false,
    "jupyter": {
     "outputs_hidden": false
    }
   },
   "outputs": [],
   "source": [
    "OUTPUT_PATH = 'predictions.csv' # TODO: fill in desired name of output file for submission\n",
    "y_pred = predict_labels(weights, tX_test)\n",
    "create_csv_submission(ids_test, y_pred, OUTPUT_PATH)"
   ]
  },
  {
   "cell_type": "code",
   "execution_count": null,
   "metadata": {
    "collapsed": true,
    "jupyter": {
     "outputs_hidden": true
    }
   },
   "outputs": [],
   "source": []
  }
 ],
 "metadata": {
  "anaconda-cloud": {},
  "kernelspec": {
   "display_name": "gc_course_env",
   "language": "python",
   "name": "gc_course_env"
  },
  "language_info": {
   "codemirror_mode": {
    "name": "ipython",
    "version": 3
   },
   "file_extension": ".py",
   "mimetype": "text/x-python",
   "name": "python",
   "nbconvert_exporter": "python",
   "pygments_lexer": "ipython3",
   "version": "3.9.7"
  }
 },
 "nbformat": 4,
 "nbformat_minor": 4
}
